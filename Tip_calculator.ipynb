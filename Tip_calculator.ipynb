{
  "nbformat": 4,
  "nbformat_minor": 0,
  "metadata": {
    "colab": {
      "name": "Tip calculator",
      "provenance": [],
      "authorship_tag": "ABX9TyMjOrq5HXtRxs6CJ1GKi1V9"
    },
    "kernelspec": {
      "name": "python3",
      "display_name": "Python 3"
    },
    "language_info": {
      "name": "python"
    }
  },
  "cells": [
    {
      "cell_type": "markdown",
      "metadata": {
        "id": "XSYtqZL7241S"
      },
      "source": [
        "TIP CALCULATOR\n",
        " \n",
        "The below program calculates the how much money each person should pay from total bill include with how much tip they want to give."
      ]
    },
    {
      "cell_type": "code",
      "metadata": {
        "colab": {
          "base_uri": "https://localhost:8080/"
        },
        "id": "NWRRP-OzphYL",
        "outputId": "2023d476-7839-44e4-9c67-fa6360896b1e"
      },
      "source": [
        "print(\"welcome to tip calculator\")\n",
        "#total bill\n",
        "total_bill=float(input(\"what is the total bill?\\n\"))\n",
        "#total members to pay bill\n",
        "total_members=int(input(\"for how many members?\\n\"))\n",
        "#how much percentage each wants to give as tip\n",
        "tax_percentage=int(input(\"how much percentage tax you want pay?10,12,or 15?\\n\"))\n",
        "#each Person's pays includes tax\n",
        "x=((total_bill/total_members*tax_percentage/100)+(total_bill/total_members))\n",
        "print(\"the bill to pay for each person is {:0.2f}.\".format(x))"
      ],
      "execution_count": null,
      "outputs": [
        {
          "output_type": "stream",
          "name": "stdout",
          "text": [
            "welcome to tip calculator\n",
            "what is the total bill?\n",
            "150\n",
            "for how many members?\n",
            "5\n",
            "how much percentage tax you want pay?10,12,or 15?\n",
            "10\n",
            "the bill to pay for each person is 33.00.\n"
          ]
        }
      ]
    },
    {
      "cell_type": "code",
      "metadata": {
        "id": "BDce9u2Hp0V9"
      },
      "source": [
        ""
      ],
      "execution_count": null,
      "outputs": []
    }
  ]
}