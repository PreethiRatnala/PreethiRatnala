{
  "nbformat": 4,
  "nbformat_minor": 0,
  "metadata": {
    "colab": {
      "name": "Password generator.ipynb",
      "provenance": [],
      "authorship_tag": "ABX9TyPqp8KwLsbjIH3tNiVfESjd"
    },
    "kernelspec": {
      "name": "python3",
      "display_name": "Python 3"
    },
    "language_info": {
      "name": "python"
    }
  },
  "cells": [
    {
      "cell_type": "markdown",
      "metadata": {
        "id": "HadAmM0D7fDx"
      },
      "source": [
        "PASSWORD GENERATOR\n",
        " \n",
        "The below code generates the password that you want\n",
        "You can select how many letters, numbers, symbols want to put in password.\n",
        "From what you are choosing this code will generates the best password for you."
      ]
    },
    {
      "cell_type": "code",
      "metadata": {
        "id": "vZLAOznp7Wpu"
      },
      "source": [
        " \n",
        "import random\n",
        "letters=('a','b','c','d','e','f','c','d','e','f','g','h','i','j','h','k','l','m','n','o','p','q','r','s','t','u','v','w','x','y','z','A','B','C','D','E','F','G','H','I','J','K','L','M','N','O','P','Q','R','S','T','U','V','W','X','Y','Z')\n",
        "numbers=('1','2','3','4','5','6','7','8','9','0')\n",
        "#im using some special characters which are allowed by most websites\n",
        "special_char=('@','#','₹','&','*','$','€','¥','!')\n",
        " \n",
        "#Now you can choose how many letters,numbers,special characters you want to put in your password\n",
        " \n",
        "nr_letters=int(input(\"how many letters you want to put in your password?\\n\"))\n",
        "nr_numbers=int(input(\"how many numbers you want to put in your password?\\n\"))\n",
        "nr_special_char=int(input(\"how many special characters you want to put in your password?\\n\"))\n",
        " \n",
        "#crating a password_list so we can randomly put characters into that list\n",
        " \n",
        "password_list=[]\n",
        "for char in range(1,nr_letters+1):\n",
        "   password_list+=random.choice(letters)\n",
        "for char in range(1,nr_numbers+1):\n",
        "   password_list+=random.choice(numbers)\n",
        "for char in range(1,nr_special_char+1):\n",
        "   password_list+=random.choice(special_char)\n",
        " \n",
        "#we can shuffle our list to get better password\n",
        " \n",
        "print(password_list)\n",
        "random.shuffle(password_list)\n",
        "print(password_list)\n",
        " \n",
        "#Now we can create our real password\n",
        " \n",
        "password=\"\"\n",
        "for char in password_list:\n",
        "   password+=char\n",
        "print(password)"
      ],
      "execution_count": null,
      "outputs": []
    }
  ]
}